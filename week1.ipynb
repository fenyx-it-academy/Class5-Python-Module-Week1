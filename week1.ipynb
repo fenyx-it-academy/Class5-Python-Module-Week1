{
 "cells": [
  {
   "cell_type": "markdown",
   "metadata": {},
   "source": [
    "* 1-Rock-Paper-Scissors\n",
    "* Oyuncularin adlarini alip tas - kagit - makas oyunu oynatiniz.\n",
    "* Oyun 10 el surecektir. 10 el sonunda kazanan belli olacaktir. Skor sonucta gosterilecektir."
   ]
  },
  {
   "cell_type": "code",
   "execution_count": 6,
   "metadata": {},
   "outputs": [
    {
     "data": {
      "application/x.notebook.stdout": "Katty win \nScore: John : 0  \nKatty : 1\nJohn  :  s   Katty  :  r\nJohn win \nScore: John : 1  \nKatty : 1\nJohn  :  r   Katty  :  s\nJohn win \nScore: John : 2  \nKatty : 1\nJohn  :  p   Katty  :  r\nKatty win \nScore: John : 2  \nKatty : 2\nJohn  :  p   Katty  :  s\nJohn win \nScore: John : 3  \nKatty : 2\nJohn  :  s   Katty  :  p\nDraw Score: John : 3  \nKatty : 2\nJohn  :  s   Katty  :  s\nJohn win \nScore: John : 4  \nKatty : 2\nJohn  :  p   Katty  :  r\nJohn win \nScore: John : 5  \nKatty : 2\nJohn  :  s   Katty  :  p\nDraw Score: John : 5  \nKatty : 2\nJohn  :  p   Katty  :  p\nJohn win \nScore: John : 6  \nKatty : 2\nJohn  :  r   Katty  :  s\nThe game ended.\nJohn won \nScore: John : 6  \nKatty : 2\n"
     },
     "output_type": "unknown"
    }
   ],
   "source": [
    "count=10\n",
    "player1=input(\"First player name: \")\n",
    "player2=input(\"Second player name: \")\n",
    "player1_count,player2_count=0,0\n",
    "while count>0:\n",
    "    count-=1\n",
    "    player1_choose=input(\"Please choose Rock(r) or Paper(p) or Scissors(s)\")\n",
    "    player2_choose=input(\"Please choose Rock(r) or Paper(p) or Scissors(s)\")\n",
    "    if (player1_choose=='s' and player2_choose=='p') or (player1_choose=='r' and player2_choose=='s') or (player1_choose=='p' and player2_choose=='r'):\n",
    "        player1_count+=1\n",
    "        print(\"{} win \\nScore: {} : {}  \\n{} : {}\".format(player1,player1,player1_count,player2,player2_count))\n",
    "        print(player1, \" : \", player1_choose,' ',player2,' : ', player2_choose)\n",
    "    elif (player1_choose=='s' and player2_choose=='s') or (player1_choose=='r' and player2_choose=='r') or (player1_choose=='p' and player2_choose=='p'):\n",
    "        print(\"Draw Score: {} : {}  \\n{} : {}\".format(player1,player1_count,player2,player2_count))\n",
    "        print(player1, \" : \", player1_choose,' ',player2,' : ', player2_choose)\n",
    "    elif (player2_choose=='s' and player1_choose=='p') or (player2_choose=='r' and player1_choose=='s') or (player2_choose=='p' and player1_choose=='r'):\n",
    "        player2_count+=1\n",
    "        print(\"{} win \\nScore: {} : {}  \\n{} : {}\".format(player2,player1,player1_count,player2,player2_count))\n",
    "        print(player1, \" : \", player1_choose,' ',player2,' : ', player2_choose)\n",
    "    if count==0:\n",
    "        if player1_count>player2_count:\n",
    "            print(\"The game ended.\\n{} won \\nScore: {} : {}  \\n{} : {}\".format(player1,player1,player1_count,player2,player2_count))\n",
    "        elif player1_count==player2_count:\n",
    "            print(\"The game ended.\\nDraw \\nScore: {} : {}  \\n{} : {}\".format(player1,player1_count,player2,player2_count))\n",
    "        else:\n",
    "            print(\"The game ended.\\n{} won \\nScore: {} : {}  \\n{} : {}\".format(player2,player1,player1_count,player2,player2_count))"
   ]
  },
  {
   "cell_type": "markdown",
   "metadata": {},
   "source": [
    "* 2- Ders Puani Hesaplama\n",
    "* Kullanıcıdan Adi, Soyadi, Ogrenci Numarasi, 4 ders adi, bu derslerin Vize ve Final notlari istenecektir.\n",
    "* Vize notunun % 40′ı ile Final Notunun %60′ınin toplamı yil sonu ortalamasini verecektir.\n",
    "* Ortalama 50‘den küçükse ekranda “KALDI“, 50 ve üstüyse ekranda “GEÇTİ” yazdırılacaktır.\n",
    "* Bu yazdirma islemi 4 ders icinde yapilacak ve dersler alt alta yazdirilacaktir."
   ]
  },
  {
   "cell_type": "code",
   "execution_count": 10,
   "metadata": {},
   "outputs": [
    {
     "name": "stdout",
     "output_type": "stream",
     "text": [
      "450 numarali ogrenci Math dersinden 84.0 puan ile gecti.\n",
      "450 numarali ogrenci Science dersinden 68.0 puan ile gecti.\n",
      "450 numarali ogrenci Language dersinden 3.6 puan ile kaldi.\n",
      "450 numarali ogrenci Stat dersinden 60.0 puan ile gecti.\n"
     ]
    }
   ],
   "source": [
    "students_informations=[input(\"Ogrencinin adi: \"),input(\"Ogrencinin soyadi: \"),input(\"Ogrencinin numarasi: \")]\n",
    "subject_1=[input(\"Ders adi: \"),int(input(\"Vize puani: \")),int(input(\"Final puani: \"))]\n",
    "subject_2=[input(\"Ders adi: \"),int(input(\"Vize puani: \")),int(input(\"Final puani: \"))]\n",
    "subject_3=[input(\"Ders adi: \"),int(input(\"Vize puani: \")),int(input(\"Final puani: \"))]\n",
    "subject_4=[input(\"Ders adi: \"),int(input(\"Vize puani: \")),int(input(\"Final puani: \"))]\n",
    "for i in [subject_1,subject_2,subject_3,subject_4]:\n",
    "    point=i[1]*0.4+i[2]*0.6\n",
    "    if point>=50:\n",
    "        print(\"{} numarali ogrenci {} dersinden {} puan ile gecti.\".format(students_informations[2],i[0],point))\n",
    "    else:\n",
    "        print(\"{} numarali ogrenci {} dersinden {} puan ile kaldi.\".format(students_informations[2],i[0],point))"
   ]
  },
  {
   "cell_type": "markdown",
   "metadata": {},
   "source": [
    "* 3- Beden Kitle Indeksi Hesaplama\n",
    "* Bir kisinin ağırlığının, boyuna göre normal olup olmadığını gösteren parametreye Beden Kitle İndeksi denir.\n",
    "* Kısaca insanın kilosunu kişinin boy uzunluğunun karesine bölersek beden kitle indeksi ortaya çıkar.\n",
    "* Kullanıcıdan kilo ve boy uzunluğunu alip çıkan sonuç 25'in altindaysa NORMAL,\n",
    "* 25-30 arasında ise FAZLA KİLOLU, 30-40 arasında ise OBEZ,\n",
    "* 40 ve üzerinde ise AŞIRI ŞİŞMAN şeklinde uyarı yazdiriniz."
   ]
  },
  {
   "cell_type": "code",
   "execution_count": 12,
   "metadata": {},
   "outputs": [
    {
     "name": "stdout",
     "output_type": "stream",
     "text": [
      "Beden kitle endeksiniz : 24.835646457268076 \n",
      "NORMAL\n"
     ]
    }
   ],
   "source": [
    "boy=float(input(\"Boyunuzu metre cinsinden giriniz: \"))\n",
    "kg=float(input(\"Kilonuzu giriniz: \"))\n",
    "beden_kitle_endeksi=kg/boy**2\n",
    "if beden_kitle_endeksi<=25:\n",
    "    print(\"Beden kitle endeksiniz : {} \\nNORMAL\".format(beden_kitle_endeksi))\n",
    "\n",
    "elif 25<beden_kitle_endeksi<=30:\n",
    "    print(\"Beden kitle endeksiniz : {} \\nFAZLA KİLOLU\".format(beden_kitle_endeksi))\n",
    "elif 30<beden_kitle_endeksi<=40:\n",
    "    print(\"Beden kitle endeksiniz : {} \\nOBEZ\".format(beden_kitle_endeksi))\n",
    "else:\n",
    "    print(\"Beden kitle endeksiniz : {} \\nAŞIRI ŞİŞMAN\".format(beden_kitle_endeksi))"
   ]
  },
  {
   "cell_type": "markdown",
   "metadata": {},
   "source": [
    "* Hackerrank"
   ]
  },
  {
   "cell_type": "code",
   "execution_count": 13,
   "metadata": {},
   "outputs": [
    {
     "name": "stdout",
     "output_type": "stream",
     "text": [
      "6\n",
      "4\n",
      "5\n"
     ]
    }
   ],
   "source": [
    "# Arithmetic Operators\n",
    "if __name__ == '__main__':\n",
    "    a = int(input())\n",
    "    b = int(input())\n",
    "    print(a+b,a-b,a*b,sep='\\n')"
   ]
  },
  {
   "cell_type": "code",
   "execution_count": 15,
   "metadata": {},
   "outputs": [
    {
     "name": "stdout",
     "output_type": "stream",
     "text": [
      "2\n"
     ]
    }
   ],
   "source": [
    "# Find the Runner-Up Score!\n",
    "if __name__ == '__main__':\n",
    "    n = int(input())\n",
    "    arr = map(int, input().split())\n",
    "    print(sorted(list(set(arr)))[-2])"
   ]
  },
  {
   "cell_type": "code",
   "execution_count": 16,
   "metadata": {},
   "outputs": [
    {
     "name": "stdout",
     "output_type": "stream",
     "text": [
      "123\n"
     ]
    }
   ],
   "source": [
    "# Print Function\n",
    "if __name__ == '__main__':\n",
    "    n = int(input())\n",
    "    print(*[i for i in range(1,n+1)],sep=\"\")"
   ]
  },
  {
   "cell_type": "code",
   "execution_count": 22,
   "metadata": {},
   "outputs": [
    {
     "name": "stdout",
     "output_type": "stream",
     "text": [
      "56.00\n"
     ]
    }
   ],
   "source": [
    "# Finding the percentage\n",
    "if __name__ == '__main__':\n",
    "    n = int(input())\n",
    "    student_marks = {}\n",
    "    for _ in range(n):\n",
    "        name, *line = input().split()\n",
    "        scores = list(map(float, line))\n",
    "        student_marks[name] = scores\n",
    "    query_name = input()\n",
    "    print(\"{0:.2f}\".format(*[(sum(student_marks[i])/len(student_marks[i])) for i in student_marks if i==query_name]))"
   ]
  }
 ],
 "metadata": {
  "kernelspec": {
   "display_name": "Python 3.8.5 64-bit ('base': conda)",
   "name": "python385jvsc74a57bd0054e6073c53ecefb2cc966210e656e13c3a3c774a68778f6cdf25d7c37e20456"
  },
  "language_info": {
   "codemirror_mode": {
    "name": "ipython",
    "version": 3
   },
   "file_extension": ".py",
   "mimetype": "text/x-python",
   "name": "python",
   "nbconvert_exporter": "python",
   "pygments_lexer": "ipython3",
   "version": "3.8.5"
  },
  "orig_nbformat": 2
 },
 "nbformat": 4,
 "nbformat_minor": 2
}